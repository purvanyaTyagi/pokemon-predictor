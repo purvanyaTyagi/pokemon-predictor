{
 "cells": [
  {
   "cell_type": "code",
   "execution_count": 100,
   "metadata": {},
   "outputs": [],
   "source": [
    "import pandas as pd\n",
    "import numpy as np"
   ]
  },
  {
   "cell_type": "code",
   "execution_count": 101,
   "metadata": {},
   "outputs": [],
   "source": [
    "data = pd.read_csv(\"Pokemon.csv\")"
   ]
  },
  {
   "cell_type": "code",
   "execution_count": 102,
   "metadata": {
    "scrolled": true
   },
   "outputs": [
    {
     "data": {
      "text/html": [
       "<div>\n",
       "<style scoped>\n",
       "    .dataframe tbody tr th:only-of-type {\n",
       "        vertical-align: middle;\n",
       "    }\n",
       "\n",
       "    .dataframe tbody tr th {\n",
       "        vertical-align: top;\n",
       "    }\n",
       "\n",
       "    .dataframe thead th {\n",
       "        text-align: right;\n",
       "    }\n",
       "</style>\n",
       "<table border=\"1\" class=\"dataframe\">\n",
       "  <thead>\n",
       "    <tr style=\"text-align: right;\">\n",
       "      <th></th>\n",
       "      <th>#</th>\n",
       "      <th>Name</th>\n",
       "      <th>Type 1</th>\n",
       "      <th>Type 2</th>\n",
       "      <th>Total</th>\n",
       "      <th>HP</th>\n",
       "      <th>Attack</th>\n",
       "      <th>Defense</th>\n",
       "      <th>Sp. Atk</th>\n",
       "      <th>Sp. Def</th>\n",
       "      <th>Speed</th>\n",
       "      <th>Generation</th>\n",
       "      <th>Legendary</th>\n",
       "    </tr>\n",
       "  </thead>\n",
       "  <tbody>\n",
       "    <tr>\n",
       "      <td>0</td>\n",
       "      <td>1</td>\n",
       "      <td>Bulbasaur</td>\n",
       "      <td>Grass</td>\n",
       "      <td>Poison</td>\n",
       "      <td>318</td>\n",
       "      <td>45</td>\n",
       "      <td>49</td>\n",
       "      <td>49</td>\n",
       "      <td>65</td>\n",
       "      <td>65</td>\n",
       "      <td>45</td>\n",
       "      <td>1</td>\n",
       "      <td>False</td>\n",
       "    </tr>\n",
       "    <tr>\n",
       "      <td>1</td>\n",
       "      <td>2</td>\n",
       "      <td>Ivysaur</td>\n",
       "      <td>Grass</td>\n",
       "      <td>Poison</td>\n",
       "      <td>405</td>\n",
       "      <td>60</td>\n",
       "      <td>62</td>\n",
       "      <td>63</td>\n",
       "      <td>80</td>\n",
       "      <td>80</td>\n",
       "      <td>60</td>\n",
       "      <td>1</td>\n",
       "      <td>False</td>\n",
       "    </tr>\n",
       "    <tr>\n",
       "      <td>2</td>\n",
       "      <td>3</td>\n",
       "      <td>Venusaur</td>\n",
       "      <td>Grass</td>\n",
       "      <td>Poison</td>\n",
       "      <td>525</td>\n",
       "      <td>80</td>\n",
       "      <td>82</td>\n",
       "      <td>83</td>\n",
       "      <td>100</td>\n",
       "      <td>100</td>\n",
       "      <td>80</td>\n",
       "      <td>1</td>\n",
       "      <td>False</td>\n",
       "    </tr>\n",
       "    <tr>\n",
       "      <td>3</td>\n",
       "      <td>3</td>\n",
       "      <td>VenusaurMega Venusaur</td>\n",
       "      <td>Grass</td>\n",
       "      <td>Poison</td>\n",
       "      <td>625</td>\n",
       "      <td>80</td>\n",
       "      <td>100</td>\n",
       "      <td>123</td>\n",
       "      <td>122</td>\n",
       "      <td>120</td>\n",
       "      <td>80</td>\n",
       "      <td>1</td>\n",
       "      <td>False</td>\n",
       "    </tr>\n",
       "    <tr>\n",
       "      <td>4</td>\n",
       "      <td>4</td>\n",
       "      <td>Charmander</td>\n",
       "      <td>Fire</td>\n",
       "      <td>NaN</td>\n",
       "      <td>309</td>\n",
       "      <td>39</td>\n",
       "      <td>52</td>\n",
       "      <td>43</td>\n",
       "      <td>60</td>\n",
       "      <td>50</td>\n",
       "      <td>65</td>\n",
       "      <td>1</td>\n",
       "      <td>False</td>\n",
       "    </tr>\n",
       "    <tr>\n",
       "      <td>...</td>\n",
       "      <td>...</td>\n",
       "      <td>...</td>\n",
       "      <td>...</td>\n",
       "      <td>...</td>\n",
       "      <td>...</td>\n",
       "      <td>...</td>\n",
       "      <td>...</td>\n",
       "      <td>...</td>\n",
       "      <td>...</td>\n",
       "      <td>...</td>\n",
       "      <td>...</td>\n",
       "      <td>...</td>\n",
       "      <td>...</td>\n",
       "    </tr>\n",
       "    <tr>\n",
       "      <td>795</td>\n",
       "      <td>719</td>\n",
       "      <td>Diancie</td>\n",
       "      <td>Rock</td>\n",
       "      <td>Fairy</td>\n",
       "      <td>600</td>\n",
       "      <td>50</td>\n",
       "      <td>100</td>\n",
       "      <td>150</td>\n",
       "      <td>100</td>\n",
       "      <td>150</td>\n",
       "      <td>50</td>\n",
       "      <td>6</td>\n",
       "      <td>True</td>\n",
       "    </tr>\n",
       "    <tr>\n",
       "      <td>796</td>\n",
       "      <td>719</td>\n",
       "      <td>DiancieMega Diancie</td>\n",
       "      <td>Rock</td>\n",
       "      <td>Fairy</td>\n",
       "      <td>700</td>\n",
       "      <td>50</td>\n",
       "      <td>160</td>\n",
       "      <td>110</td>\n",
       "      <td>160</td>\n",
       "      <td>110</td>\n",
       "      <td>110</td>\n",
       "      <td>6</td>\n",
       "      <td>True</td>\n",
       "    </tr>\n",
       "    <tr>\n",
       "      <td>797</td>\n",
       "      <td>720</td>\n",
       "      <td>HoopaHoopa Confined</td>\n",
       "      <td>Psychic</td>\n",
       "      <td>Ghost</td>\n",
       "      <td>600</td>\n",
       "      <td>80</td>\n",
       "      <td>110</td>\n",
       "      <td>60</td>\n",
       "      <td>150</td>\n",
       "      <td>130</td>\n",
       "      <td>70</td>\n",
       "      <td>6</td>\n",
       "      <td>True</td>\n",
       "    </tr>\n",
       "    <tr>\n",
       "      <td>798</td>\n",
       "      <td>720</td>\n",
       "      <td>HoopaHoopa Unbound</td>\n",
       "      <td>Psychic</td>\n",
       "      <td>Dark</td>\n",
       "      <td>680</td>\n",
       "      <td>80</td>\n",
       "      <td>160</td>\n",
       "      <td>60</td>\n",
       "      <td>170</td>\n",
       "      <td>130</td>\n",
       "      <td>80</td>\n",
       "      <td>6</td>\n",
       "      <td>True</td>\n",
       "    </tr>\n",
       "    <tr>\n",
       "      <td>799</td>\n",
       "      <td>721</td>\n",
       "      <td>Volcanion</td>\n",
       "      <td>Fire</td>\n",
       "      <td>Water</td>\n",
       "      <td>600</td>\n",
       "      <td>80</td>\n",
       "      <td>110</td>\n",
       "      <td>120</td>\n",
       "      <td>130</td>\n",
       "      <td>90</td>\n",
       "      <td>70</td>\n",
       "      <td>6</td>\n",
       "      <td>True</td>\n",
       "    </tr>\n",
       "  </tbody>\n",
       "</table>\n",
       "<p>800 rows × 13 columns</p>\n",
       "</div>"
      ],
      "text/plain": [
       "       #                   Name   Type 1  Type 2  Total  HP  Attack  Defense  \\\n",
       "0      1              Bulbasaur    Grass  Poison    318  45      49       49   \n",
       "1      2                Ivysaur    Grass  Poison    405  60      62       63   \n",
       "2      3               Venusaur    Grass  Poison    525  80      82       83   \n",
       "3      3  VenusaurMega Venusaur    Grass  Poison    625  80     100      123   \n",
       "4      4             Charmander     Fire     NaN    309  39      52       43   \n",
       "..   ...                    ...      ...     ...    ...  ..     ...      ...   \n",
       "795  719                Diancie     Rock   Fairy    600  50     100      150   \n",
       "796  719    DiancieMega Diancie     Rock   Fairy    700  50     160      110   \n",
       "797  720    HoopaHoopa Confined  Psychic   Ghost    600  80     110       60   \n",
       "798  720     HoopaHoopa Unbound  Psychic    Dark    680  80     160       60   \n",
       "799  721              Volcanion     Fire   Water    600  80     110      120   \n",
       "\n",
       "     Sp. Atk  Sp. Def  Speed  Generation  Legendary  \n",
       "0         65       65     45           1      False  \n",
       "1         80       80     60           1      False  \n",
       "2        100      100     80           1      False  \n",
       "3        122      120     80           1      False  \n",
       "4         60       50     65           1      False  \n",
       "..       ...      ...    ...         ...        ...  \n",
       "795      100      150     50           6       True  \n",
       "796      160      110    110           6       True  \n",
       "797      150      130     70           6       True  \n",
       "798      170      130     80           6       True  \n",
       "799      130       90     70           6       True  \n",
       "\n",
       "[800 rows x 13 columns]"
      ]
     },
     "execution_count": 102,
     "metadata": {},
     "output_type": "execute_result"
    }
   ],
   "source": [
    "data"
   ]
  },
  {
   "cell_type": "code",
   "execution_count": 103,
   "metadata": {},
   "outputs": [],
   "source": [
    "new_data = data.drop('Type 1', axis = 1)"
   ]
  },
  {
   "cell_type": "code",
   "execution_count": 104,
   "metadata": {},
   "outputs": [],
   "source": [
    "labels = data['Type 1'].copy()"
   ]
  },
  {
   "cell_type": "code",
   "execution_count": 105,
   "metadata": {},
   "outputs": [],
   "source": [
    "features = new_data"
   ]
  },
  {
   "cell_type": "code",
   "execution_count": 106,
   "metadata": {},
   "outputs": [
    {
     "data": {
      "text/html": [
       "<div>\n",
       "<style scoped>\n",
       "    .dataframe tbody tr th:only-of-type {\n",
       "        vertical-align: middle;\n",
       "    }\n",
       "\n",
       "    .dataframe tbody tr th {\n",
       "        vertical-align: top;\n",
       "    }\n",
       "\n",
       "    .dataframe thead th {\n",
       "        text-align: right;\n",
       "    }\n",
       "</style>\n",
       "<table border=\"1\" class=\"dataframe\">\n",
       "  <thead>\n",
       "    <tr style=\"text-align: right;\">\n",
       "      <th></th>\n",
       "      <th>#</th>\n",
       "      <th>Name</th>\n",
       "      <th>Type 2</th>\n",
       "      <th>Total</th>\n",
       "      <th>HP</th>\n",
       "      <th>Attack</th>\n",
       "      <th>Defense</th>\n",
       "      <th>Sp. Atk</th>\n",
       "      <th>Sp. Def</th>\n",
       "      <th>Speed</th>\n",
       "      <th>Generation</th>\n",
       "      <th>Legendary</th>\n",
       "    </tr>\n",
       "  </thead>\n",
       "  <tbody>\n",
       "    <tr>\n",
       "      <td>0</td>\n",
       "      <td>1</td>\n",
       "      <td>Bulbasaur</td>\n",
       "      <td>Poison</td>\n",
       "      <td>318</td>\n",
       "      <td>45</td>\n",
       "      <td>49</td>\n",
       "      <td>49</td>\n",
       "      <td>65</td>\n",
       "      <td>65</td>\n",
       "      <td>45</td>\n",
       "      <td>1</td>\n",
       "      <td>False</td>\n",
       "    </tr>\n",
       "    <tr>\n",
       "      <td>1</td>\n",
       "      <td>2</td>\n",
       "      <td>Ivysaur</td>\n",
       "      <td>Poison</td>\n",
       "      <td>405</td>\n",
       "      <td>60</td>\n",
       "      <td>62</td>\n",
       "      <td>63</td>\n",
       "      <td>80</td>\n",
       "      <td>80</td>\n",
       "      <td>60</td>\n",
       "      <td>1</td>\n",
       "      <td>False</td>\n",
       "    </tr>\n",
       "    <tr>\n",
       "      <td>2</td>\n",
       "      <td>3</td>\n",
       "      <td>Venusaur</td>\n",
       "      <td>Poison</td>\n",
       "      <td>525</td>\n",
       "      <td>80</td>\n",
       "      <td>82</td>\n",
       "      <td>83</td>\n",
       "      <td>100</td>\n",
       "      <td>100</td>\n",
       "      <td>80</td>\n",
       "      <td>1</td>\n",
       "      <td>False</td>\n",
       "    </tr>\n",
       "    <tr>\n",
       "      <td>3</td>\n",
       "      <td>3</td>\n",
       "      <td>VenusaurMega Venusaur</td>\n",
       "      <td>Poison</td>\n",
       "      <td>625</td>\n",
       "      <td>80</td>\n",
       "      <td>100</td>\n",
       "      <td>123</td>\n",
       "      <td>122</td>\n",
       "      <td>120</td>\n",
       "      <td>80</td>\n",
       "      <td>1</td>\n",
       "      <td>False</td>\n",
       "    </tr>\n",
       "    <tr>\n",
       "      <td>4</td>\n",
       "      <td>4</td>\n",
       "      <td>Charmander</td>\n",
       "      <td>NaN</td>\n",
       "      <td>309</td>\n",
       "      <td>39</td>\n",
       "      <td>52</td>\n",
       "      <td>43</td>\n",
       "      <td>60</td>\n",
       "      <td>50</td>\n",
       "      <td>65</td>\n",
       "      <td>1</td>\n",
       "      <td>False</td>\n",
       "    </tr>\n",
       "    <tr>\n",
       "      <td>...</td>\n",
       "      <td>...</td>\n",
       "      <td>...</td>\n",
       "      <td>...</td>\n",
       "      <td>...</td>\n",
       "      <td>...</td>\n",
       "      <td>...</td>\n",
       "      <td>...</td>\n",
       "      <td>...</td>\n",
       "      <td>...</td>\n",
       "      <td>...</td>\n",
       "      <td>...</td>\n",
       "      <td>...</td>\n",
       "    </tr>\n",
       "    <tr>\n",
       "      <td>795</td>\n",
       "      <td>719</td>\n",
       "      <td>Diancie</td>\n",
       "      <td>Fairy</td>\n",
       "      <td>600</td>\n",
       "      <td>50</td>\n",
       "      <td>100</td>\n",
       "      <td>150</td>\n",
       "      <td>100</td>\n",
       "      <td>150</td>\n",
       "      <td>50</td>\n",
       "      <td>6</td>\n",
       "      <td>True</td>\n",
       "    </tr>\n",
       "    <tr>\n",
       "      <td>796</td>\n",
       "      <td>719</td>\n",
       "      <td>DiancieMega Diancie</td>\n",
       "      <td>Fairy</td>\n",
       "      <td>700</td>\n",
       "      <td>50</td>\n",
       "      <td>160</td>\n",
       "      <td>110</td>\n",
       "      <td>160</td>\n",
       "      <td>110</td>\n",
       "      <td>110</td>\n",
       "      <td>6</td>\n",
       "      <td>True</td>\n",
       "    </tr>\n",
       "    <tr>\n",
       "      <td>797</td>\n",
       "      <td>720</td>\n",
       "      <td>HoopaHoopa Confined</td>\n",
       "      <td>Ghost</td>\n",
       "      <td>600</td>\n",
       "      <td>80</td>\n",
       "      <td>110</td>\n",
       "      <td>60</td>\n",
       "      <td>150</td>\n",
       "      <td>130</td>\n",
       "      <td>70</td>\n",
       "      <td>6</td>\n",
       "      <td>True</td>\n",
       "    </tr>\n",
       "    <tr>\n",
       "      <td>798</td>\n",
       "      <td>720</td>\n",
       "      <td>HoopaHoopa Unbound</td>\n",
       "      <td>Dark</td>\n",
       "      <td>680</td>\n",
       "      <td>80</td>\n",
       "      <td>160</td>\n",
       "      <td>60</td>\n",
       "      <td>170</td>\n",
       "      <td>130</td>\n",
       "      <td>80</td>\n",
       "      <td>6</td>\n",
       "      <td>True</td>\n",
       "    </tr>\n",
       "    <tr>\n",
       "      <td>799</td>\n",
       "      <td>721</td>\n",
       "      <td>Volcanion</td>\n",
       "      <td>Water</td>\n",
       "      <td>600</td>\n",
       "      <td>80</td>\n",
       "      <td>110</td>\n",
       "      <td>120</td>\n",
       "      <td>130</td>\n",
       "      <td>90</td>\n",
       "      <td>70</td>\n",
       "      <td>6</td>\n",
       "      <td>True</td>\n",
       "    </tr>\n",
       "  </tbody>\n",
       "</table>\n",
       "<p>800 rows × 12 columns</p>\n",
       "</div>"
      ],
      "text/plain": [
       "       #                   Name  Type 2  Total  HP  Attack  Defense  Sp. Atk  \\\n",
       "0      1              Bulbasaur  Poison    318  45      49       49       65   \n",
       "1      2                Ivysaur  Poison    405  60      62       63       80   \n",
       "2      3               Venusaur  Poison    525  80      82       83      100   \n",
       "3      3  VenusaurMega Venusaur  Poison    625  80     100      123      122   \n",
       "4      4             Charmander     NaN    309  39      52       43       60   \n",
       "..   ...                    ...     ...    ...  ..     ...      ...      ...   \n",
       "795  719                Diancie   Fairy    600  50     100      150      100   \n",
       "796  719    DiancieMega Diancie   Fairy    700  50     160      110      160   \n",
       "797  720    HoopaHoopa Confined   Ghost    600  80     110       60      150   \n",
       "798  720     HoopaHoopa Unbound    Dark    680  80     160       60      170   \n",
       "799  721              Volcanion   Water    600  80     110      120      130   \n",
       "\n",
       "     Sp. Def  Speed  Generation  Legendary  \n",
       "0         65     45           1      False  \n",
       "1         80     60           1      False  \n",
       "2        100     80           1      False  \n",
       "3        120     80           1      False  \n",
       "4         50     65           1      False  \n",
       "..       ...    ...         ...        ...  \n",
       "795      150     50           6       True  \n",
       "796      110    110           6       True  \n",
       "797      130     70           6       True  \n",
       "798      130     80           6       True  \n",
       "799       90     70           6       True  \n",
       "\n",
       "[800 rows x 12 columns]"
      ]
     },
     "execution_count": 106,
     "metadata": {},
     "output_type": "execute_result"
    }
   ],
   "source": [
    "features"
   ]
  },
  {
   "cell_type": "code",
   "execution_count": 107,
   "metadata": {},
   "outputs": [
    {
     "data": {
      "text/plain": [
       "0        Grass\n",
       "1        Grass\n",
       "2        Grass\n",
       "3        Grass\n",
       "4         Fire\n",
       "        ...   \n",
       "795       Rock\n",
       "796       Rock\n",
       "797    Psychic\n",
       "798    Psychic\n",
       "799       Fire\n",
       "Name: Type 1, Length: 800, dtype: object"
      ]
     },
     "execution_count": 107,
     "metadata": {},
     "output_type": "execute_result"
    }
   ],
   "source": [
    "labels"
   ]
  },
  {
   "cell_type": "code",
   "execution_count": 213,
   "metadata": {},
   "outputs": [
    {
     "data": {
      "text/plain": [
       "array([0., 1.], dtype=float32)"
      ]
     },
     "execution_count": 213,
     "metadata": {},
     "output_type": "execute_result"
    }
   ],
   "source": [
    "np.unique(labels)"
   ]
  },
  {
   "cell_type": "code",
   "execution_count": 109,
   "metadata": {},
   "outputs": [],
   "source": [
    "no_classes = 18"
   ]
  },
  {
   "cell_type": "code",
   "execution_count": 110,
   "metadata": {},
   "outputs": [
    {
     "data": {
      "text/plain": [
       "Index(['#', 'Name', 'Type 2', 'Total', 'HP', 'Attack', 'Defense', 'Sp. Atk',\n",
       "       'Sp. Def', 'Speed', 'Generation', 'Legendary'],\n",
       "      dtype='object')"
      ]
     },
     "execution_count": 110,
     "metadata": {},
     "output_type": "execute_result"
    }
   ],
   "source": [
    "features.columns "
   ]
  },
  {
   "cell_type": "code",
   "execution_count": 111,
   "metadata": {},
   "outputs": [],
   "source": [
    "#features = features.drop('#',axis = 1)\n",
    "features = features.drop('Type 2',axis = 1)"
   ]
  },
  {
   "cell_type": "code",
   "execution_count": 112,
   "metadata": {},
   "outputs": [
    {
     "data": {
      "text/plain": [
       "Index(['#', 'Name', 'Total', 'HP', 'Attack', 'Defense', 'Sp. Atk', 'Sp. Def',\n",
       "       'Speed', 'Generation', 'Legendary'],\n",
       "      dtype='object')"
      ]
     },
     "execution_count": 112,
     "metadata": {},
     "output_type": "execute_result"
    }
   ],
   "source": [
    "features.columns "
   ]
  },
  {
   "cell_type": "code",
   "execution_count": 113,
   "metadata": {},
   "outputs": [],
   "source": [
    "from sklearn.preprocessing import OneHotEncoder\n",
    "#labels = labels.reshape(-1, 1)\n",
    "features = OneHotEncoder().fit_transform(features).toarray() \n"
   ]
  },
  {
   "cell_type": "code",
   "execution_count": null,
   "metadata": {},
   "outputs": [],
   "source": []
  },
  {
   "cell_type": "code",
   "execution_count": 114,
   "metadata": {},
   "outputs": [],
   "source": [
    "labels = labels.to_numpy()"
   ]
  },
  {
   "cell_type": "code",
   "execution_count": 115,
   "metadata": {},
   "outputs": [
    {
     "data": {
      "text/plain": [
       "array(['Grass', 'Grass', 'Grass', 'Grass', 'Fire', 'Fire', 'Fire', 'Fire',\n",
       "       'Fire', 'Water', 'Water', 'Water', 'Water', 'Bug', 'Bug', 'Bug',\n",
       "       'Bug', 'Bug', 'Bug', 'Bug', 'Normal', 'Normal', 'Normal', 'Normal',\n",
       "       'Normal', 'Normal', 'Normal', 'Normal', 'Poison', 'Poison',\n",
       "       'Electric', 'Electric', 'Ground', 'Ground', 'Poison', 'Poison',\n",
       "       'Poison', 'Poison', 'Poison', 'Poison', 'Fairy', 'Fairy', 'Fire',\n",
       "       'Fire', 'Normal', 'Normal', 'Poison', 'Poison', 'Grass', 'Grass',\n",
       "       'Grass', 'Bug', 'Bug', 'Bug', 'Bug', 'Ground', 'Ground', 'Normal',\n",
       "       'Normal', 'Water', 'Water', 'Fighting', 'Fighting', 'Fire', 'Fire',\n",
       "       'Water', 'Water', 'Water', 'Psychic', 'Psychic', 'Psychic',\n",
       "       'Psychic', 'Fighting', 'Fighting', 'Fighting', 'Grass', 'Grass',\n",
       "       'Grass', 'Water', 'Water', 'Rock', 'Rock', 'Rock', 'Fire', 'Fire',\n",
       "       'Water', 'Water', 'Water', 'Electric', 'Electric', 'Normal',\n",
       "       'Normal', 'Normal', 'Water', 'Water', 'Poison', 'Poison', 'Water',\n",
       "       'Water', 'Ghost', 'Ghost', 'Ghost', 'Ghost', 'Rock', 'Psychic',\n",
       "       'Psychic', 'Water', 'Water', 'Electric', 'Electric', 'Grass',\n",
       "       'Grass', 'Ground', 'Ground', 'Fighting', 'Fighting', 'Normal',\n",
       "       'Poison', 'Poison', 'Ground', 'Ground', 'Normal', 'Grass',\n",
       "       'Normal', 'Normal', 'Water', 'Water', 'Water', 'Water', 'Water',\n",
       "       'Water', 'Psychic', 'Bug', 'Ice', 'Electric', 'Fire', 'Bug', 'Bug',\n",
       "       'Normal', 'Water', 'Water', 'Water', 'Water', 'Normal', 'Normal',\n",
       "       'Water', 'Electric', 'Fire', 'Normal', 'Rock', 'Rock', 'Rock',\n",
       "       'Rock', 'Rock', 'Rock', 'Normal', 'Ice', 'Electric', 'Fire',\n",
       "       'Dragon', 'Dragon', 'Dragon', 'Psychic', 'Psychic', 'Psychic',\n",
       "       'Psychic', 'Grass', 'Grass', 'Grass', 'Fire', 'Fire', 'Fire',\n",
       "       'Water', 'Water', 'Water', 'Normal', 'Normal', 'Normal', 'Normal',\n",
       "       'Bug', 'Bug', 'Bug', 'Bug', 'Poison', 'Water', 'Water', 'Electric',\n",
       "       'Fairy', 'Normal', 'Fairy', 'Fairy', 'Psychic', 'Psychic',\n",
       "       'Electric', 'Electric', 'Electric', 'Electric', 'Grass', 'Water',\n",
       "       'Water', 'Rock', 'Water', 'Grass', 'Grass', 'Grass', 'Normal',\n",
       "       'Grass', 'Grass', 'Bug', 'Water', 'Water', 'Psychic', 'Dark',\n",
       "       'Dark', 'Water', 'Ghost', 'Psychic', 'Psychic', 'Normal', 'Bug',\n",
       "       'Bug', 'Normal', 'Ground', 'Steel', 'Steel', 'Fairy', 'Fairy',\n",
       "       'Water', 'Bug', 'Bug', 'Bug', 'Bug', 'Bug', 'Dark', 'Normal',\n",
       "       'Normal', 'Fire', 'Fire', 'Ice', 'Ice', 'Water', 'Water', 'Water',\n",
       "       'Ice', 'Water', 'Steel', 'Dark', 'Dark', 'Dark', 'Water', 'Ground',\n",
       "       'Ground', 'Normal', 'Normal', 'Normal', 'Fighting', 'Fighting',\n",
       "       'Ice', 'Electric', 'Fire', 'Normal', 'Normal', 'Electric', 'Fire',\n",
       "       'Water', 'Rock', 'Rock', 'Rock', 'Rock', 'Psychic', 'Fire',\n",
       "       'Psychic', 'Grass', 'Grass', 'Grass', 'Grass', 'Fire', 'Fire',\n",
       "       'Fire', 'Fire', 'Water', 'Water', 'Water', 'Water', 'Dark', 'Dark',\n",
       "       'Normal', 'Normal', 'Bug', 'Bug', 'Bug', 'Bug', 'Bug', 'Water',\n",
       "       'Water', 'Water', 'Grass', 'Grass', 'Grass', 'Normal', 'Normal',\n",
       "       'Water', 'Water', 'Psychic', 'Psychic', 'Psychic', 'Psychic',\n",
       "       'Bug', 'Bug', 'Grass', 'Grass', 'Normal', 'Normal', 'Normal',\n",
       "       'Bug', 'Bug', 'Bug', 'Normal', 'Normal', 'Normal', 'Fighting',\n",
       "       'Fighting', 'Normal', 'Rock', 'Normal', 'Normal', 'Dark', 'Dark',\n",
       "       'Steel', 'Steel', 'Steel', 'Steel', 'Steel', 'Steel', 'Fighting',\n",
       "       'Fighting', 'Fighting', 'Electric', 'Electric', 'Electric',\n",
       "       'Electric', 'Electric', 'Bug', 'Bug', 'Grass', 'Poison', 'Poison',\n",
       "       'Water', 'Water', 'Water', 'Water', 'Water', 'Fire', 'Fire',\n",
       "       'Fire', 'Fire', 'Psychic', 'Psychic', 'Normal', 'Ground', 'Ground',\n",
       "       'Ground', 'Grass', 'Grass', 'Normal', 'Dragon', 'Dragon', 'Normal',\n",
       "       'Poison', 'Rock', 'Rock', 'Water', 'Water', 'Water', 'Water',\n",
       "       'Ground', 'Ground', 'Rock', 'Rock', 'Rock', 'Rock', 'Water',\n",
       "       'Water', 'Normal', 'Normal', 'Ghost', 'Ghost', 'Ghost', 'Ghost',\n",
       "       'Ghost', 'Grass', 'Psychic', 'Dark', 'Dark', 'Psychic', 'Ice',\n",
       "       'Ice', 'Ice', 'Ice', 'Ice', 'Ice', 'Water', 'Water', 'Water',\n",
       "       'Water', 'Water', 'Dragon', 'Dragon', 'Dragon', 'Dragon', 'Steel',\n",
       "       'Steel', 'Steel', 'Steel', 'Rock', 'Ice', 'Steel', 'Dragon',\n",
       "       'Dragon', 'Dragon', 'Dragon', 'Water', 'Water', 'Ground', 'Ground',\n",
       "       'Dragon', 'Dragon', 'Steel', 'Psychic', 'Psychic', 'Psychic',\n",
       "       'Psychic', 'Grass', 'Grass', 'Grass', 'Fire', 'Fire', 'Fire',\n",
       "       'Water', 'Water', 'Water', 'Normal', 'Normal', 'Normal', 'Normal',\n",
       "       'Normal', 'Bug', 'Bug', 'Electric', 'Electric', 'Electric',\n",
       "       'Grass', 'Grass', 'Rock', 'Rock', 'Rock', 'Rock', 'Bug', 'Bug',\n",
       "       'Bug', 'Bug', 'Bug', 'Bug', 'Bug', 'Electric', 'Water', 'Water',\n",
       "       'Grass', 'Grass', 'Water', 'Water', 'Normal', 'Ghost', 'Ghost',\n",
       "       'Normal', 'Normal', 'Normal', 'Ghost', 'Dark', 'Normal', 'Normal',\n",
       "       'Psychic', 'Poison', 'Poison', 'Steel', 'Steel', 'Rock', 'Psychic',\n",
       "       'Normal', 'Normal', 'Ghost', 'Dragon', 'Dragon', 'Dragon',\n",
       "       'Dragon', 'Normal', 'Fighting', 'Fighting', 'Fighting', 'Ground',\n",
       "       'Ground', 'Poison', 'Poison', 'Poison', 'Poison', 'Grass', 'Water',\n",
       "       'Water', 'Water', 'Grass', 'Grass', 'Grass', 'Dark', 'Electric',\n",
       "       'Normal', 'Ground', 'Grass', 'Electric', 'Fire', 'Fairy', 'Bug',\n",
       "       'Grass', 'Ice', 'Ground', 'Ice', 'Normal', 'Psychic', 'Psychic',\n",
       "       'Rock', 'Ghost', 'Ice', 'Electric', 'Electric', 'Electric',\n",
       "       'Electric', 'Electric', 'Electric', 'Psychic', 'Psychic',\n",
       "       'Psychic', 'Steel', 'Water', 'Fire', 'Normal', 'Ghost', 'Ghost',\n",
       "       'Psychic', 'Water', 'Water', 'Dark', 'Grass', 'Grass', 'Normal',\n",
       "       'Psychic', 'Grass', 'Grass', 'Grass', 'Fire', 'Fire', 'Fire',\n",
       "       'Water', 'Water', 'Water', 'Normal', 'Normal', 'Normal', 'Normal',\n",
       "       'Normal', 'Dark', 'Dark', 'Grass', 'Grass', 'Fire', 'Fire',\n",
       "       'Water', 'Water', 'Psychic', 'Psychic', 'Normal', 'Normal',\n",
       "       'Normal', 'Electric', 'Electric', 'Rock', 'Rock', 'Rock',\n",
       "       'Psychic', 'Psychic', 'Ground', 'Ground', 'Normal', 'Normal',\n",
       "       'Fighting', 'Fighting', 'Fighting', 'Water', 'Water', 'Water',\n",
       "       'Fighting', 'Fighting', 'Bug', 'Bug', 'Bug', 'Bug', 'Bug', 'Bug',\n",
       "       'Grass', 'Grass', 'Grass', 'Grass', 'Water', 'Ground', 'Ground',\n",
       "       'Ground', 'Fire', 'Fire', 'Fire', 'Grass', 'Bug', 'Bug', 'Dark',\n",
       "       'Dark', 'Psychic', 'Ghost', 'Ghost', 'Water', 'Water', 'Rock',\n",
       "       'Rock', 'Poison', 'Poison', 'Dark', 'Dark', 'Normal', 'Normal',\n",
       "       'Psychic', 'Psychic', 'Psychic', 'Psychic', 'Psychic', 'Psychic',\n",
       "       'Water', 'Water', 'Ice', 'Ice', 'Ice', 'Normal', 'Normal',\n",
       "       'Electric', 'Bug', 'Bug', 'Grass', 'Grass', 'Water', 'Water',\n",
       "       'Water', 'Bug', 'Bug', 'Grass', 'Grass', 'Steel', 'Steel', 'Steel',\n",
       "       'Electric', 'Electric', 'Electric', 'Psychic', 'Psychic', 'Ghost',\n",
       "       'Ghost', 'Ghost', 'Dragon', 'Dragon', 'Dragon', 'Ice', 'Ice',\n",
       "       'Ice', 'Bug', 'Bug', 'Ground', 'Fighting', 'Fighting', 'Dragon',\n",
       "       'Ground', 'Ground', 'Dark', 'Dark', 'Normal', 'Normal', 'Normal',\n",
       "       'Dark', 'Dark', 'Fire', 'Bug', 'Dark', 'Dark', 'Dark', 'Bug',\n",
       "       'Bug', 'Steel', 'Rock', 'Grass', 'Flying', 'Flying', 'Electric',\n",
       "       'Electric', 'Dragon', 'Dragon', 'Ground', 'Ground', 'Dragon',\n",
       "       'Dragon', 'Dragon', 'Water', 'Water', 'Normal', 'Normal', 'Bug',\n",
       "       'Grass', 'Grass', 'Grass', 'Fire', 'Fire', 'Fire', 'Water',\n",
       "       'Water', 'Water', 'Normal', 'Normal', 'Normal', 'Fire', 'Fire',\n",
       "       'Bug', 'Bug', 'Bug', 'Fire', 'Fire', 'Fairy', 'Fairy', 'Fairy',\n",
       "       'Grass', 'Grass', 'Fighting', 'Fighting', 'Normal', 'Psychic',\n",
       "       'Psychic', 'Psychic', 'Steel', 'Steel', 'Steel', 'Steel', 'Fairy',\n",
       "       'Fairy', 'Fairy', 'Fairy', 'Dark', 'Dark', 'Rock', 'Rock',\n",
       "       'Poison', 'Poison', 'Water', 'Water', 'Electric', 'Electric',\n",
       "       'Rock', 'Rock', 'Rock', 'Rock', 'Fairy', 'Fighting', 'Electric',\n",
       "       'Rock', 'Dragon', 'Dragon', 'Dragon', 'Steel', 'Ghost', 'Ghost',\n",
       "       'Ghost', 'Ghost', 'Ghost', 'Ghost', 'Ghost', 'Ghost', 'Ghost',\n",
       "       'Ghost', 'Ice', 'Ice', 'Flying', 'Flying', 'Fairy', 'Dark',\n",
       "       'Dragon', 'Rock', 'Rock', 'Psychic', 'Psychic', 'Fire'],\n",
       "      dtype=object)"
      ]
     },
     "execution_count": 115,
     "metadata": {},
     "output_type": "execute_result"
    }
   ],
   "source": [
    "labels"
   ]
  },
  {
   "cell_type": "code",
   "execution_count": 116,
   "metadata": {},
   "outputs": [],
   "source": [
    "from sklearn.preprocessing import LabelEncoder \n",
    "\n",
    "encoder = LabelEncoder()\n",
    "\n",
    "labels = encoder.fit_transform(labels)"
   ]
  },
  {
   "cell_type": "code",
   "execution_count": 117,
   "metadata": {
    "scrolled": true
   },
   "outputs": [
    {
     "data": {
      "text/plain": [
       "array([ 9,  9,  9,  9,  6,  6,  6,  6,  6, 17, 17, 17, 17,  0,  0,  0,  0,\n",
       "        0,  0,  0, 12, 12, 12, 12, 12, 12, 12, 12, 13, 13,  3,  3, 10, 10,\n",
       "       13, 13, 13, 13, 13, 13,  4,  4,  6,  6, 12, 12, 13, 13,  9,  9,  9,\n",
       "        0,  0,  0,  0, 10, 10, 12, 12, 17, 17,  5,  5,  6,  6, 17, 17, 17,\n",
       "       14, 14, 14, 14,  5,  5,  5,  9,  9,  9, 17, 17, 15, 15, 15,  6,  6,\n",
       "       17, 17, 17,  3,  3, 12, 12, 12, 17, 17, 13, 13, 17, 17,  8,  8,  8,\n",
       "        8, 15, 14, 14, 17, 17,  3,  3,  9,  9, 10, 10,  5,  5, 12, 13, 13,\n",
       "       10, 10, 12,  9, 12, 12, 17, 17, 17, 17, 17, 17, 14,  0, 11,  3,  6,\n",
       "        0,  0, 12, 17, 17, 17, 17, 12, 12, 17,  3,  6, 12, 15, 15, 15, 15,\n",
       "       15, 15, 12, 11,  3,  6,  2,  2,  2, 14, 14, 14, 14,  9,  9,  9,  6,\n",
       "        6,  6, 17, 17, 17, 12, 12, 12, 12,  0,  0,  0,  0, 13, 17, 17,  3,\n",
       "        4, 12,  4,  4, 14, 14,  3,  3,  3,  3,  9, 17, 17, 15, 17,  9,  9,\n",
       "        9, 12,  9,  9,  0, 17, 17, 14,  1,  1, 17,  8, 14, 14, 12,  0,  0,\n",
       "       12, 10, 16, 16,  4,  4, 17,  0,  0,  0,  0,  0,  1, 12, 12,  6,  6,\n",
       "       11, 11, 17, 17, 17, 11, 17, 16,  1,  1,  1, 17, 10, 10, 12, 12, 12,\n",
       "        5,  5, 11,  3,  6, 12, 12,  3,  6, 17, 15, 15, 15, 15, 14,  6, 14,\n",
       "        9,  9,  9,  9,  6,  6,  6,  6, 17, 17, 17, 17,  1,  1, 12, 12,  0,\n",
       "        0,  0,  0,  0, 17, 17, 17,  9,  9,  9, 12, 12, 17, 17, 14, 14, 14,\n",
       "       14,  0,  0,  9,  9, 12, 12, 12,  0,  0,  0, 12, 12, 12,  5,  5, 12,\n",
       "       15, 12, 12,  1,  1, 16, 16, 16, 16, 16, 16,  5,  5,  5,  3,  3,  3,\n",
       "        3,  3,  0,  0,  9, 13, 13, 17, 17, 17, 17, 17,  6,  6,  6,  6, 14,\n",
       "       14, 12, 10, 10, 10,  9,  9, 12,  2,  2, 12, 13, 15, 15, 17, 17, 17,\n",
       "       17, 10, 10, 15, 15, 15, 15, 17, 17, 12, 12,  8,  8,  8,  8,  8,  9,\n",
       "       14,  1,  1, 14, 11, 11, 11, 11, 11, 11, 17, 17, 17, 17, 17,  2,  2,\n",
       "        2,  2, 16, 16, 16, 16, 15, 11, 16,  2,  2,  2,  2, 17, 17, 10, 10,\n",
       "        2,  2, 16, 14, 14, 14, 14,  9,  9,  9,  6,  6,  6, 17, 17, 17, 12,\n",
       "       12, 12, 12, 12,  0,  0,  3,  3,  3,  9,  9, 15, 15, 15, 15,  0,  0,\n",
       "        0,  0,  0,  0,  0,  3, 17, 17,  9,  9, 17, 17, 12,  8,  8, 12, 12,\n",
       "       12,  8,  1, 12, 12, 14, 13, 13, 16, 16, 15, 14, 12, 12,  8,  2,  2,\n",
       "        2,  2, 12,  5,  5,  5, 10, 10, 13, 13, 13, 13,  9, 17, 17, 17,  9,\n",
       "        9,  9,  1,  3, 12, 10,  9,  3,  6,  4,  0,  9, 11, 10, 11, 12, 14,\n",
       "       14, 15,  8, 11,  3,  3,  3,  3,  3,  3, 14, 14, 14, 16, 17,  6, 12,\n",
       "        8,  8, 14, 17, 17,  1,  9,  9, 12, 14,  9,  9,  9,  6,  6,  6, 17,\n",
       "       17, 17, 12, 12, 12, 12, 12,  1,  1,  9,  9,  6,  6, 17, 17, 14, 14,\n",
       "       12, 12, 12,  3,  3, 15, 15, 15, 14, 14, 10, 10, 12, 12,  5,  5,  5,\n",
       "       17, 17, 17,  5,  5,  0,  0,  0,  0,  0,  0,  9,  9,  9,  9, 17, 10,\n",
       "       10, 10,  6,  6,  6,  9,  0,  0,  1,  1, 14,  8,  8, 17, 17, 15, 15,\n",
       "       13, 13,  1,  1, 12, 12, 14, 14, 14, 14, 14, 14, 17, 17, 11, 11, 11,\n",
       "       12, 12,  3,  0,  0,  9,  9, 17, 17, 17,  0,  0,  9,  9, 16, 16, 16,\n",
       "        3,  3,  3, 14, 14,  8,  8,  8,  2,  2,  2, 11, 11, 11,  0,  0, 10,\n",
       "        5,  5,  2, 10, 10,  1,  1, 12, 12, 12,  1,  1,  6,  0,  1,  1,  1,\n",
       "        0,  0, 16, 15,  9,  7,  7,  3,  3,  2,  2, 10, 10,  2,  2,  2, 17,\n",
       "       17, 12, 12,  0,  9,  9,  9,  6,  6,  6, 17, 17, 17, 12, 12, 12,  6,\n",
       "        6,  0,  0,  0,  6,  6,  4,  4,  4,  9,  9,  5,  5, 12, 14, 14, 14,\n",
       "       16, 16, 16, 16,  4,  4,  4,  4,  1,  1, 15, 15, 13, 13, 17, 17,  3,\n",
       "        3, 15, 15, 15, 15,  4,  5,  3, 15,  2,  2,  2, 16,  8,  8,  8,  8,\n",
       "        8,  8,  8,  8,  8,  8, 11, 11,  7,  7,  4,  1,  2, 15, 15, 14, 14,\n",
       "        6])"
      ]
     },
     "execution_count": 117,
     "metadata": {},
     "output_type": "execute_result"
    }
   ],
   "source": [
    "labels "
   ]
  },
  {
   "cell_type": "code",
   "execution_count": 118,
   "metadata": {},
   "outputs": [],
   "source": [
    "from sklearn.preprocessing import StandardScaler \n",
    "sc_X = StandardScaler()\n",
    "features = sc_X.fit_transform(features)\n"
   ]
  },
  {
   "cell_type": "code",
   "execution_count": 214,
   "metadata": {},
   "outputs": [],
   "source": [
    "from sklearn.linear_model import LogisticRegression"
   ]
  },
  {
   "cell_type": "code",
   "execution_count": 215,
   "metadata": {},
   "outputs": [],
   "source": [
    "model = LogisticRegression(random_state=0)"
   ]
  },
  {
   "cell_type": "code",
   "execution_count": 216,
   "metadata": {},
   "outputs": [
    {
     "name": "stderr",
     "output_type": "stream",
     "text": [
      "C:\\Users\\purvanya tyagi\\Anaconda3\\lib\\site-packages\\sklearn\\linear_model\\logistic.py:432: FutureWarning: Default solver will be changed to 'lbfgs' in 0.22. Specify a solver to silence this warning.\n",
      "  FutureWarning)\n"
     ]
    },
    {
     "ename": "TypeError",
     "evalue": "__array__() takes 1 positional argument but 2 were given",
     "output_type": "error",
     "traceback": [
      "\u001b[1;31m---------------------------------------------------------------------------\u001b[0m",
      "\u001b[1;31mTypeError\u001b[0m                                 Traceback (most recent call last)",
      "\u001b[1;32m<ipython-input-216-3e27e3d17811>\u001b[0m in \u001b[0;36m<module>\u001b[1;34m\u001b[0m\n\u001b[1;32m----> 1\u001b[1;33m \u001b[0mmodel\u001b[0m\u001b[1;33m.\u001b[0m\u001b[0mfit\u001b[0m\u001b[1;33m(\u001b[0m\u001b[0mfeatures\u001b[0m\u001b[1;33m,\u001b[0m\u001b[0mlabels\u001b[0m\u001b[1;33m)\u001b[0m\u001b[1;33m\u001b[0m\u001b[1;33m\u001b[0m\u001b[0m\n\u001b[0m",
      "\u001b[1;32m~\\Anaconda3\\lib\\site-packages\\sklearn\\linear_model\\logistic.py\u001b[0m in \u001b[0;36mfit\u001b[1;34m(self, X, y, sample_weight)\u001b[0m\n\u001b[0;32m   1530\u001b[0m \u001b[1;33m\u001b[0m\u001b[0m\n\u001b[0;32m   1531\u001b[0m         X, y = check_X_y(X, y, accept_sparse='csr', dtype=_dtype, order=\"C\",\n\u001b[1;32m-> 1532\u001b[1;33m                          accept_large_sparse=solver != 'liblinear')\n\u001b[0m\u001b[0;32m   1533\u001b[0m         \u001b[0mcheck_classification_targets\u001b[0m\u001b[1;33m(\u001b[0m\u001b[0my\u001b[0m\u001b[1;33m)\u001b[0m\u001b[1;33m\u001b[0m\u001b[1;33m\u001b[0m\u001b[0m\n\u001b[0;32m   1534\u001b[0m         \u001b[0mself\u001b[0m\u001b[1;33m.\u001b[0m\u001b[0mclasses_\u001b[0m \u001b[1;33m=\u001b[0m \u001b[0mnp\u001b[0m\u001b[1;33m.\u001b[0m\u001b[0munique\u001b[0m\u001b[1;33m(\u001b[0m\u001b[0my\u001b[0m\u001b[1;33m)\u001b[0m\u001b[1;33m\u001b[0m\u001b[1;33m\u001b[0m\u001b[0m\n",
      "\u001b[1;32m~\\Anaconda3\\lib\\site-packages\\sklearn\\utils\\validation.py\u001b[0m in \u001b[0;36mcheck_X_y\u001b[1;34m(X, y, accept_sparse, accept_large_sparse, dtype, order, copy, force_all_finite, ensure_2d, allow_nd, multi_output, ensure_min_samples, ensure_min_features, y_numeric, warn_on_dtype, estimator)\u001b[0m\n\u001b[0;32m    717\u001b[0m                     \u001b[0mensure_min_features\u001b[0m\u001b[1;33m=\u001b[0m\u001b[0mensure_min_features\u001b[0m\u001b[1;33m,\u001b[0m\u001b[1;33m\u001b[0m\u001b[1;33m\u001b[0m\u001b[0m\n\u001b[0;32m    718\u001b[0m                     \u001b[0mwarn_on_dtype\u001b[0m\u001b[1;33m=\u001b[0m\u001b[0mwarn_on_dtype\u001b[0m\u001b[1;33m,\u001b[0m\u001b[1;33m\u001b[0m\u001b[1;33m\u001b[0m\u001b[0m\n\u001b[1;32m--> 719\u001b[1;33m                     estimator=estimator)\n\u001b[0m\u001b[0;32m    720\u001b[0m     \u001b[1;32mif\u001b[0m \u001b[0mmulti_output\u001b[0m\u001b[1;33m:\u001b[0m\u001b[1;33m\u001b[0m\u001b[1;33m\u001b[0m\u001b[0m\n\u001b[0;32m    721\u001b[0m         y = check_array(y, 'csr', force_all_finite=True, ensure_2d=False,\n",
      "\u001b[1;32m~\\Anaconda3\\lib\\site-packages\\sklearn\\utils\\validation.py\u001b[0m in \u001b[0;36mcheck_array\u001b[1;34m(array, accept_sparse, accept_large_sparse, dtype, order, copy, force_all_finite, ensure_2d, allow_nd, ensure_min_samples, ensure_min_features, warn_on_dtype, estimator)\u001b[0m\n\u001b[0;32m    494\u001b[0m             \u001b[1;32mtry\u001b[0m\u001b[1;33m:\u001b[0m\u001b[1;33m\u001b[0m\u001b[1;33m\u001b[0m\u001b[0m\n\u001b[0;32m    495\u001b[0m                 \u001b[0mwarnings\u001b[0m\u001b[1;33m.\u001b[0m\u001b[0msimplefilter\u001b[0m\u001b[1;33m(\u001b[0m\u001b[1;34m'error'\u001b[0m\u001b[1;33m,\u001b[0m \u001b[0mComplexWarning\u001b[0m\u001b[1;33m)\u001b[0m\u001b[1;33m\u001b[0m\u001b[1;33m\u001b[0m\u001b[0m\n\u001b[1;32m--> 496\u001b[1;33m                 \u001b[0marray\u001b[0m \u001b[1;33m=\u001b[0m \u001b[0mnp\u001b[0m\u001b[1;33m.\u001b[0m\u001b[0masarray\u001b[0m\u001b[1;33m(\u001b[0m\u001b[0marray\u001b[0m\u001b[1;33m,\u001b[0m \u001b[0mdtype\u001b[0m\u001b[1;33m=\u001b[0m\u001b[0mdtype\u001b[0m\u001b[1;33m,\u001b[0m \u001b[0morder\u001b[0m\u001b[1;33m=\u001b[0m\u001b[0morder\u001b[0m\u001b[1;33m)\u001b[0m\u001b[1;33m\u001b[0m\u001b[1;33m\u001b[0m\u001b[0m\n\u001b[0m\u001b[0;32m    497\u001b[0m             \u001b[1;32mexcept\u001b[0m \u001b[0mComplexWarning\u001b[0m\u001b[1;33m:\u001b[0m\u001b[1;33m\u001b[0m\u001b[1;33m\u001b[0m\u001b[0m\n\u001b[0;32m    498\u001b[0m                 raise ValueError(\"Complex data not supported\\n\"\n",
      "\u001b[1;32m~\\Anaconda3\\lib\\site-packages\\numpy\\core\\numeric.py\u001b[0m in \u001b[0;36masarray\u001b[1;34m(a, dtype, order)\u001b[0m\n\u001b[0;32m    536\u001b[0m \u001b[1;33m\u001b[0m\u001b[0m\n\u001b[0;32m    537\u001b[0m     \"\"\"\n\u001b[1;32m--> 538\u001b[1;33m     \u001b[1;32mreturn\u001b[0m \u001b[0marray\u001b[0m\u001b[1;33m(\u001b[0m\u001b[0ma\u001b[0m\u001b[1;33m,\u001b[0m \u001b[0mdtype\u001b[0m\u001b[1;33m,\u001b[0m \u001b[0mcopy\u001b[0m\u001b[1;33m=\u001b[0m\u001b[1;32mFalse\u001b[0m\u001b[1;33m,\u001b[0m \u001b[0morder\u001b[0m\u001b[1;33m=\u001b[0m\u001b[0morder\u001b[0m\u001b[1;33m)\u001b[0m\u001b[1;33m\u001b[0m\u001b[1;33m\u001b[0m\u001b[0m\n\u001b[0m\u001b[0;32m    539\u001b[0m \u001b[1;33m\u001b[0m\u001b[0m\n\u001b[0;32m    540\u001b[0m \u001b[1;33m\u001b[0m\u001b[0m\n",
      "\u001b[1;31mTypeError\u001b[0m: __array__() takes 1 positional argument but 2 were given"
     ]
    }
   ],
   "source": [
    "model.fit(features,labels)"
   ]
  },
  {
   "cell_type": "code",
   "execution_count": 122,
   "metadata": {},
   "outputs": [
    {
     "data": {
      "text/plain": [
       "\"import tensorflow as tf\\nn_nodes_hl1 = 500\\nn_nodes_hl2 = 500\\nn_nodes_hl3 = 500\\n\\nn_classes = 10\\nbatch_size = 100\\nfeatures = tf.convert_to_tensor(features,dtype = tf.float64)\\noutput_layer = {'weights':tf.Variable(tf.random_normal([500, 18])),\\n                'biases':tf.Variable(tf.random_normal([18])),}\\nl1 = tf.keras.layers.Dense(500 , activation = 'relu')(features)\\nl2 = tf.keras.layers.Dense(500 , activation = 'relu')(l1)\\nl3 = tf.keras.layers.Dense(500 , activation = 'relu')(l2)\\noutput =  tf.keras.layers.Dense(18, activation = 'relu')(l3)\""
      ]
     },
     "execution_count": 122,
     "metadata": {},
     "output_type": "execute_result"
    }
   ],
   "source": [
    "'''import tensorflow as tf\n",
    "n_nodes_hl1 = 500\n",
    "n_nodes_hl2 = 500\n",
    "n_nodes_hl3 = 500\n",
    "\n",
    "n_classes = 10\n",
    "batch_size = 100\n",
    "features = tf.convert_to_tensor(features,dtype = tf.float64)\n",
    "output_layer = {'weights':tf.Variable(tf.random_normal([500, 18])),\n",
    "                'biases':tf.Variable(tf.random_normal([18])),}\n",
    "l1 = tf.keras.layers.Dense(500 , activation = 'relu')(features)\n",
    "l2 = tf.keras.layers.Dense(500 , activation = 'relu')(l1)\n",
    "l3 = tf.keras.layers.Dense(500 , activation = 'relu')(l2)\n",
    "output =  tf.keras.layers.Dense(18, activation = 'relu')(l3)'''"
   ]
  },
  {
   "cell_type": "code",
   "execution_count": 123,
   "metadata": {},
   "outputs": [],
   "source": [
    "from sklearn.tree import DecisionTreeClassifier"
   ]
  },
  {
   "cell_type": "code",
   "execution_count": 124,
   "metadata": {},
   "outputs": [
    {
     "data": {
      "text/plain": [
       "DecisionTreeClassifier(class_weight=None, criterion='gini', max_depth=None,\n",
       "                       max_features=None, max_leaf_nodes=None,\n",
       "                       min_impurity_decrease=0.0, min_impurity_split=None,\n",
       "                       min_samples_leaf=1, min_samples_split=2,\n",
       "                       min_weight_fraction_leaf=0.0, presort=False,\n",
       "                       random_state=None, splitter='best')"
      ]
     },
     "execution_count": 124,
     "metadata": {},
     "output_type": "execute_result"
    }
   ],
   "source": [
    "tree = DecisionTreeClassifier()\n",
    "\n",
    "tree.fit(features,labels)"
   ]
  },
  {
   "cell_type": "code",
   "execution_count": 125,
   "metadata": {},
   "outputs": [],
   "source": [
    "from keras.models import Sequential\n",
    "from keras.layers import Dense"
   ]
  },
  {
   "cell_type": "code",
   "execution_count": 179,
   "metadata": {
    "scrolled": true
   },
   "outputs": [
    {
     "data": {
      "text/plain": [
       "array([[0., 0., 0., ..., 0., 0., 0.],\n",
       "       [0., 0., 0., ..., 0., 0., 0.],\n",
       "       [0., 0., 0., ..., 0., 0., 0.],\n",
       "       ...,\n",
       "       [0., 0., 0., ..., 0., 0., 0.],\n",
       "       [0., 0., 0., ..., 0., 0., 0.],\n",
       "       [0., 0., 0., ..., 0., 0., 0.]], dtype=float32)"
      ]
     },
     "execution_count": 179,
     "metadata": {},
     "output_type": "execute_result"
    }
   ],
   "source": [
    "labels"
   ]
  },
  {
   "cell_type": "code",
   "execution_count": 217,
   "metadata": {},
   "outputs": [
    {
     "ename": "TypeError",
     "evalue": "float() argument must be a string or a number, not 'Dimension'",
     "output_type": "error",
     "traceback": [
      "\u001b[1;31m---------------------------------------------------------------------------\u001b[0m",
      "\u001b[1;31mTypeError\u001b[0m                                 Traceback (most recent call last)",
      "\u001b[1;32m<ipython-input-217-19f021ee0ecb>\u001b[0m in \u001b[0;36m<module>\u001b[1;34m\u001b[0m\n\u001b[0;32m      1\u001b[0m \u001b[0mmodel\u001b[0m \u001b[1;33m=\u001b[0m \u001b[0mSequential\u001b[0m\u001b[1;33m(\u001b[0m\u001b[1;33m)\u001b[0m\u001b[1;33m\u001b[0m\u001b[1;33m\u001b[0m\u001b[0m\n\u001b[1;32m----> 2\u001b[1;33m \u001b[0mmodel\u001b[0m\u001b[1;33m.\u001b[0m\u001b[0madd\u001b[0m\u001b[1;33m(\u001b[0m\u001b[0mDense\u001b[0m\u001b[1;33m(\u001b[0m\u001b[1;36m500\u001b[0m\u001b[1;33m,\u001b[0m \u001b[0minput_shape\u001b[0m\u001b[1;33m=\u001b[0m\u001b[1;33m(\u001b[0m\u001b[0mfeatures\u001b[0m\u001b[1;33m[\u001b[0m\u001b[1;36m0\u001b[0m\u001b[1;33m]\u001b[0m\u001b[1;33m.\u001b[0m\u001b[0mshape\u001b[0m\u001b[1;33m)\u001b[0m\u001b[1;33m,\u001b[0m \u001b[0mactivation\u001b[0m\u001b[1;33m=\u001b[0m\u001b[1;34m'relu'\u001b[0m\u001b[1;33m)\u001b[0m\u001b[1;33m)\u001b[0m\u001b[1;33m\u001b[0m\u001b[1;33m\u001b[0m\u001b[0m\n\u001b[0m\u001b[0;32m      3\u001b[0m \u001b[0mmodel\u001b[0m\u001b[1;33m.\u001b[0m\u001b[0madd\u001b[0m\u001b[1;33m(\u001b[0m\u001b[0mDense\u001b[0m\u001b[1;33m(\u001b[0m\u001b[1;36m100\u001b[0m\u001b[1;33m,\u001b[0m \u001b[0mactivation\u001b[0m\u001b[1;33m=\u001b[0m\u001b[1;34m'relu'\u001b[0m\u001b[1;33m)\u001b[0m\u001b[1;33m)\u001b[0m\u001b[1;33m\u001b[0m\u001b[1;33m\u001b[0m\u001b[0m\n\u001b[0;32m      4\u001b[0m \u001b[0mmodel\u001b[0m\u001b[1;33m.\u001b[0m\u001b[0madd\u001b[0m\u001b[1;33m(\u001b[0m\u001b[0mDense\u001b[0m\u001b[1;33m(\u001b[0m\u001b[1;36m100\u001b[0m\u001b[1;33m,\u001b[0m \u001b[0mactivation\u001b[0m\u001b[1;33m=\u001b[0m\u001b[1;34m'relu'\u001b[0m\u001b[1;33m)\u001b[0m\u001b[1;33m)\u001b[0m\u001b[1;33m\u001b[0m\u001b[1;33m\u001b[0m\u001b[0m\n\u001b[0;32m      5\u001b[0m \u001b[0mmodel\u001b[0m\u001b[1;33m.\u001b[0m\u001b[0madd\u001b[0m\u001b[1;33m(\u001b[0m\u001b[0mDense\u001b[0m\u001b[1;33m(\u001b[0m\u001b[1;36m100\u001b[0m\u001b[1;33m,\u001b[0m \u001b[0mactivation\u001b[0m\u001b[1;33m=\u001b[0m\u001b[1;34m'relu'\u001b[0m\u001b[1;33m)\u001b[0m\u001b[1;33m)\u001b[0m\u001b[1;33m\u001b[0m\u001b[1;33m\u001b[0m\u001b[0m\n",
      "\u001b[1;32m~\\Anaconda3\\lib\\site-packages\\keras\\engine\\sequential.py\u001b[0m in \u001b[0;36madd\u001b[1;34m(self, layer)\u001b[0m\n\u001b[0;32m    163\u001b[0m                     \u001b[1;31m# and create the node connecting the current layer\u001b[0m\u001b[1;33m\u001b[0m\u001b[1;33m\u001b[0m\u001b[1;33m\u001b[0m\u001b[0m\n\u001b[0;32m    164\u001b[0m                     \u001b[1;31m# to the input layer we just created.\u001b[0m\u001b[1;33m\u001b[0m\u001b[1;33m\u001b[0m\u001b[1;33m\u001b[0m\u001b[0m\n\u001b[1;32m--> 165\u001b[1;33m                     \u001b[0mlayer\u001b[0m\u001b[1;33m(\u001b[0m\u001b[0mx\u001b[0m\u001b[1;33m)\u001b[0m\u001b[1;33m\u001b[0m\u001b[1;33m\u001b[0m\u001b[0m\n\u001b[0m\u001b[0;32m    166\u001b[0m                     \u001b[0mset_inputs\u001b[0m \u001b[1;33m=\u001b[0m \u001b[1;32mTrue\u001b[0m\u001b[1;33m\u001b[0m\u001b[1;33m\u001b[0m\u001b[0m\n\u001b[0;32m    167\u001b[0m             \u001b[1;32melse\u001b[0m\u001b[1;33m:\u001b[0m\u001b[1;33m\u001b[0m\u001b[1;33m\u001b[0m\u001b[0m\n",
      "\u001b[1;32m~\\Anaconda3\\lib\\site-packages\\keras\\engine\\base_layer.py\u001b[0m in \u001b[0;36m__call__\u001b[1;34m(self, inputs, **kwargs)\u001b[0m\n\u001b[0;32m    429\u001b[0m                                          \u001b[1;34m'You can build it manually via: '\u001b[0m\u001b[1;33m\u001b[0m\u001b[1;33m\u001b[0m\u001b[0m\n\u001b[0;32m    430\u001b[0m                                          '`layer.build(batch_input_shape)`')\n\u001b[1;32m--> 431\u001b[1;33m                 \u001b[0mself\u001b[0m\u001b[1;33m.\u001b[0m\u001b[0mbuild\u001b[0m\u001b[1;33m(\u001b[0m\u001b[0munpack_singleton\u001b[0m\u001b[1;33m(\u001b[0m\u001b[0minput_shapes\u001b[0m\u001b[1;33m)\u001b[0m\u001b[1;33m)\u001b[0m\u001b[1;33m\u001b[0m\u001b[1;33m\u001b[0m\u001b[0m\n\u001b[0m\u001b[0;32m    432\u001b[0m                 \u001b[0mself\u001b[0m\u001b[1;33m.\u001b[0m\u001b[0mbuilt\u001b[0m \u001b[1;33m=\u001b[0m \u001b[1;32mTrue\u001b[0m\u001b[1;33m\u001b[0m\u001b[1;33m\u001b[0m\u001b[0m\n\u001b[0;32m    433\u001b[0m \u001b[1;33m\u001b[0m\u001b[0m\n",
      "\u001b[1;32m~\\Anaconda3\\lib\\site-packages\\keras\\layers\\core.py\u001b[0m in \u001b[0;36mbuild\u001b[1;34m(self, input_shape)\u001b[0m\n\u001b[0;32m    864\u001b[0m                                       \u001b[0mname\u001b[0m\u001b[1;33m=\u001b[0m\u001b[1;34m'kernel'\u001b[0m\u001b[1;33m,\u001b[0m\u001b[1;33m\u001b[0m\u001b[1;33m\u001b[0m\u001b[0m\n\u001b[0;32m    865\u001b[0m                                       \u001b[0mregularizer\u001b[0m\u001b[1;33m=\u001b[0m\u001b[0mself\u001b[0m\u001b[1;33m.\u001b[0m\u001b[0mkernel_regularizer\u001b[0m\u001b[1;33m,\u001b[0m\u001b[1;33m\u001b[0m\u001b[1;33m\u001b[0m\u001b[0m\n\u001b[1;32m--> 866\u001b[1;33m                                       constraint=self.kernel_constraint)\n\u001b[0m\u001b[0;32m    867\u001b[0m         \u001b[1;32mif\u001b[0m \u001b[0mself\u001b[0m\u001b[1;33m.\u001b[0m\u001b[0muse_bias\u001b[0m\u001b[1;33m:\u001b[0m\u001b[1;33m\u001b[0m\u001b[1;33m\u001b[0m\u001b[0m\n\u001b[0;32m    868\u001b[0m             self.bias = self.add_weight(shape=(self.units,),\n",
      "\u001b[1;32m~\\Anaconda3\\lib\\site-packages\\keras\\legacy\\interfaces.py\u001b[0m in \u001b[0;36mwrapper\u001b[1;34m(*args, **kwargs)\u001b[0m\n\u001b[0;32m     89\u001b[0m                 warnings.warn('Update your `' + object_name + '` call to the ' +\n\u001b[0;32m     90\u001b[0m                               'Keras 2 API: ' + signature, stacklevel=2)\n\u001b[1;32m---> 91\u001b[1;33m             \u001b[1;32mreturn\u001b[0m \u001b[0mfunc\u001b[0m\u001b[1;33m(\u001b[0m\u001b[1;33m*\u001b[0m\u001b[0margs\u001b[0m\u001b[1;33m,\u001b[0m \u001b[1;33m**\u001b[0m\u001b[0mkwargs\u001b[0m\u001b[1;33m)\u001b[0m\u001b[1;33m\u001b[0m\u001b[1;33m\u001b[0m\u001b[0m\n\u001b[0m\u001b[0;32m     92\u001b[0m         \u001b[0mwrapper\u001b[0m\u001b[1;33m.\u001b[0m\u001b[0m_original_function\u001b[0m \u001b[1;33m=\u001b[0m \u001b[0mfunc\u001b[0m\u001b[1;33m\u001b[0m\u001b[1;33m\u001b[0m\u001b[0m\n\u001b[0;32m     93\u001b[0m         \u001b[1;32mreturn\u001b[0m \u001b[0mwrapper\u001b[0m\u001b[1;33m\u001b[0m\u001b[1;33m\u001b[0m\u001b[0m\n",
      "\u001b[1;32m~\\Anaconda3\\lib\\site-packages\\keras\\engine\\base_layer.py\u001b[0m in \u001b[0;36madd_weight\u001b[1;34m(self, name, shape, dtype, initializer, regularizer, trainable, constraint)\u001b[0m\n\u001b[0;32m    247\u001b[0m         \u001b[1;32mif\u001b[0m \u001b[0mdtype\u001b[0m \u001b[1;32mis\u001b[0m \u001b[1;32mNone\u001b[0m\u001b[1;33m:\u001b[0m\u001b[1;33m\u001b[0m\u001b[1;33m\u001b[0m\u001b[0m\n\u001b[0;32m    248\u001b[0m             \u001b[0mdtype\u001b[0m \u001b[1;33m=\u001b[0m \u001b[0mK\u001b[0m\u001b[1;33m.\u001b[0m\u001b[0mfloatx\u001b[0m\u001b[1;33m(\u001b[0m\u001b[1;33m)\u001b[0m\u001b[1;33m\u001b[0m\u001b[1;33m\u001b[0m\u001b[0m\n\u001b[1;32m--> 249\u001b[1;33m         weight = K.variable(initializer(shape),\n\u001b[0m\u001b[0;32m    250\u001b[0m                             \u001b[0mdtype\u001b[0m\u001b[1;33m=\u001b[0m\u001b[0mdtype\u001b[0m\u001b[1;33m,\u001b[0m\u001b[1;33m\u001b[0m\u001b[1;33m\u001b[0m\u001b[0m\n\u001b[0;32m    251\u001b[0m                             \u001b[0mname\u001b[0m\u001b[1;33m=\u001b[0m\u001b[0mname\u001b[0m\u001b[1;33m,\u001b[0m\u001b[1;33m\u001b[0m\u001b[1;33m\u001b[0m\u001b[0m\n",
      "\u001b[1;32m~\\Anaconda3\\lib\\site-packages\\keras\\initializers.py\u001b[0m in \u001b[0;36m__call__\u001b[1;34m(self, shape, dtype)\u001b[0m\n\u001b[0;32m    207\u001b[0m             \u001b[0mscale\u001b[0m \u001b[1;33m/=\u001b[0m \u001b[0mmax\u001b[0m\u001b[1;33m(\u001b[0m\u001b[1;36m1.\u001b[0m\u001b[1;33m,\u001b[0m \u001b[0mfan_out\u001b[0m\u001b[1;33m)\u001b[0m\u001b[1;33m\u001b[0m\u001b[1;33m\u001b[0m\u001b[0m\n\u001b[0;32m    208\u001b[0m         \u001b[1;32melse\u001b[0m\u001b[1;33m:\u001b[0m\u001b[1;33m\u001b[0m\u001b[1;33m\u001b[0m\u001b[0m\n\u001b[1;32m--> 209\u001b[1;33m             \u001b[0mscale\u001b[0m \u001b[1;33m/=\u001b[0m \u001b[0mmax\u001b[0m\u001b[1;33m(\u001b[0m\u001b[1;36m1.\u001b[0m\u001b[1;33m,\u001b[0m \u001b[0mfloat\u001b[0m\u001b[1;33m(\u001b[0m\u001b[0mfan_in\u001b[0m \u001b[1;33m+\u001b[0m \u001b[0mfan_out\u001b[0m\u001b[1;33m)\u001b[0m \u001b[1;33m/\u001b[0m \u001b[1;36m2\u001b[0m\u001b[1;33m)\u001b[0m\u001b[1;33m\u001b[0m\u001b[1;33m\u001b[0m\u001b[0m\n\u001b[0m\u001b[0;32m    210\u001b[0m         \u001b[1;32mif\u001b[0m \u001b[0mself\u001b[0m\u001b[1;33m.\u001b[0m\u001b[0mdistribution\u001b[0m \u001b[1;33m==\u001b[0m \u001b[1;34m'normal'\u001b[0m\u001b[1;33m:\u001b[0m\u001b[1;33m\u001b[0m\u001b[1;33m\u001b[0m\u001b[0m\n\u001b[0;32m    211\u001b[0m             \u001b[1;31m# 0.879... = scipy.stats.truncnorm.std(a=-2, b=2, loc=0., scale=1.)\u001b[0m\u001b[1;33m\u001b[0m\u001b[1;33m\u001b[0m\u001b[1;33m\u001b[0m\u001b[0m\n",
      "\u001b[1;31mTypeError\u001b[0m: float() argument must be a string or a number, not 'Dimension'"
     ]
    }
   ],
   "source": [
    "model = Sequential()\n",
    "model.add(Dense(500, input_shape=(features[0].shape), activation='relu'))\n",
    "model.add(Dense(100, activation='relu'))\n",
    "model.add(Dense(100, activation='relu'))\n",
    "model.add(Dense(100, activation='relu'))\n",
    "model.add(Dense(100, activation='relu'))\n",
    "model.add(Dense(100, activation='relu'))\n",
    "model.add(Dense(100, activation='relu'))\n",
    "model.add(Dense(100, activation='relu'))\n",
    "model.add(Dense(1, activation='sigmoid'))"
   ]
  },
  {
   "cell_type": "code",
   "execution_count": 196,
   "metadata": {},
   "outputs": [],
   "source": [
    "model.compile(loss='binary_crossentropy', optimizer='adam', metrics=['accuracy'])"
   ]
  },
  {
   "cell_type": "code",
   "execution_count": 198,
   "metadata": {},
   "outputs": [
    {
     "name": "stdout",
     "output_type": "stream",
     "text": [
      "Epoch 1/20\n",
      "800/800 [==============================] - 5s 6ms/step - loss: 0.0063 - acc: 0.9982\n",
      "Epoch 2/20\n",
      "800/800 [==============================] - 5s 6ms/step - loss: 0.0050 - acc: 0.9988\n",
      "Epoch 3/20\n",
      "800/800 [==============================] - 5s 6ms/step - loss: 0.0013 - acc: 0.9997\n",
      "Epoch 4/20\n",
      "800/800 [==============================] - 5s 6ms/step - loss: 0.0012 - acc: 0.9997\n",
      "Epoch 5/20\n",
      "800/800 [==============================] - 5s 6ms/step - loss: 0.0025 - acc: 0.9992\n",
      "Epoch 6/20\n",
      "800/800 [==============================] - 5s 6ms/step - loss: 0.0068 - acc: 0.9986\n",
      "Epoch 7/20\n",
      "800/800 [==============================] - 5s 6ms/step - loss: 0.0095 - acc: 0.9984A: 1s - \n",
      "Epoch 8/20\n",
      "800/800 [==============================] - 5s 6ms/step - loss: 0.0093 - acc: 0.9979\n",
      "Epoch 9/20\n",
      "800/800 [==============================] - 5s 6ms/step - loss: 0.0041 - acc: 0.9990A: \n",
      "Epoch 10/20\n",
      "800/800 [==============================] - 5s 6ms/step - loss: 0.0052 - acc: 0.9988\n",
      "Epoch 11/20\n",
      "800/800 [==============================] - 5s 6ms/step - loss: 0.0031 - acc: 0.9991\n",
      "Epoch 12/20\n",
      "800/800 [==============================] - 5s 6ms/step - loss: 0.0052 - acc: 0.9988\n",
      "Epoch 13/20\n",
      "800/800 [==============================] - 5s 6ms/step - loss: 0.0052 - acc: 0.9990\n",
      "Epoch 14/20\n",
      "800/800 [==============================] - 5s 6ms/step - loss: 0.0027 - acc: 0.9990\n",
      "Epoch 15/20\n",
      "800/800 [==============================] - 5s 7ms/step - loss: 0.0040 - acc: 0.9993\n",
      "Epoch 16/20\n",
      "800/800 [==============================] - 5s 6ms/step - loss: 0.0029 - acc: 0.9995\n",
      "Epoch 17/20\n",
      "800/800 [==============================] - 5s 6ms/step - loss: 9.2928e-05 - acc: 1.0000A: 2s - loss: 1.1058e-04 - acc - ETA: 1s - \n",
      "Epoch 18/20\n",
      "800/800 [==============================] - 5s 6ms/step - loss: 2.2906e-05 - acc: 1.0000\n",
      "Epoch 19/20\n",
      "800/800 [==============================] - 5s 6ms/step - loss: 1.6954e-05 - acc: 1.0000\n",
      "Epoch 20/20\n",
      "800/800 [==============================] - 5s 7ms/step - loss: 1.3245e-05 - acc: 1.0000\n"
     ]
    },
    {
     "data": {
      "text/plain": [
       "<keras.callbacks.History at 0x2479162d0c8>"
      ]
     },
     "execution_count": 198,
     "metadata": {},
     "output_type": "execute_result"
    }
   ],
   "source": [
    "model.fit(features, labels, epochs=20,batch_size = 10)"
   ]
  },
  {
   "cell_type": "code",
   "execution_count": 190,
   "metadata": {},
   "outputs": [],
   "source": [
    "predictions = model.predict(features)"
   ]
  },
  {
   "cell_type": "code",
   "execution_count": null,
   "metadata": {},
   "outputs": [],
   "source": [
    "800 * 11"
   ]
  },
  {
   "cell_type": "code",
   "execution_count": null,
   "metadata": {},
   "outputs": [],
   "source": [
    "800 * 12"
   ]
  },
  {
   "cell_type": "code",
   "execution_count": 169,
   "metadata": {},
   "outputs": [
    {
     "data": {
      "text/plain": [
       "(2342,)"
      ]
     },
     "execution_count": 169,
     "metadata": {},
     "output_type": "execute_result"
    }
   ],
   "source": [
    "features[21].shape"
   ]
  },
  {
   "cell_type": "code",
   "execution_count": null,
   "metadata": {},
   "outputs": [],
   "source": [
    "labels[21].shape\n"
   ]
  },
  {
   "cell_type": "code",
   "execution_count": 175,
   "metadata": {},
   "outputs": [],
   "source": [
    "from keras.utils import to_categorical\n",
    "labels = to_categorical(labels, 18)"
   ]
  },
  {
   "cell_type": "code",
   "execution_count": 176,
   "metadata": {},
   "outputs": [
    {
     "data": {
      "text/plain": [
       "(800, 18)"
      ]
     },
     "execution_count": 176,
     "metadata": {},
     "output_type": "execute_result"
    }
   ],
   "source": [
    "labels.shape"
   ]
  },
  {
   "cell_type": "code",
   "execution_count": 177,
   "metadata": {},
   "outputs": [
    {
     "data": {
      "text/plain": [
       "array([[0., 0., 0., ..., 0., 0., 0.],\n",
       "       [0., 0., 0., ..., 0., 0., 0.],\n",
       "       [0., 0., 0., ..., 0., 0., 0.],\n",
       "       ...,\n",
       "       [0., 0., 0., ..., 0., 0., 0.],\n",
       "       [0., 0., 0., ..., 0., 0., 0.],\n",
       "       [0., 0., 0., ..., 0., 0., 0.]], dtype=float32)"
      ]
     },
     "execution_count": 177,
     "metadata": {},
     "output_type": "execute_result"
    }
   ],
   "source": [
    "labels"
   ]
  },
  {
   "cell_type": "code",
   "execution_count": 193,
   "metadata": {
    "scrolled": true
   },
   "outputs": [
    {
     "name": "stdout",
     "output_type": "stream",
     "text": [
      "6\n"
     ]
    }
   ],
   "source": [
    "print(np.argmax(predictions[5]))"
   ]
  },
  {
   "cell_type": "code",
   "execution_count": 199,
   "metadata": {},
   "outputs": [
    {
     "name": "stdout",
     "output_type": "stream",
     "text": [
      "800/800 [==============================] - 1s 2ms/step\n"
     ]
    }
   ],
   "source": [
    "loss , acc = model.evaluate(features,labels)"
   ]
  },
  {
   "cell_type": "code",
   "execution_count": 200,
   "metadata": {},
   "outputs": [
    {
     "data": {
      "text/plain": [
       "1.1410478055040586e-05"
      ]
     },
     "execution_count": 200,
     "metadata": {},
     "output_type": "execute_result"
    }
   ],
   "source": [
    "loss"
   ]
  },
  {
   "cell_type": "code",
   "execution_count": 219,
   "metadata": {},
   "outputs": [],
   "source": [
    "accuracy = acc "
   ]
  },
  {
   "cell_type": "code",
   "execution_count": 220,
   "metadata": {},
   "outputs": [
    {
     "data": {
      "text/plain": [
       "1.0"
      ]
     },
     "execution_count": 220,
     "metadata": {},
     "output_type": "execute_result"
    }
   ],
   "source": [
    "accuracy"
   ]
  },
  {
   "cell_type": "code",
   "execution_count": 204,
   "metadata": {},
   "outputs": [
    {
     "data": {
      "text/plain": [
       "array([ 9,  9,  9,  9,  6,  6,  6,  6,  6, 17, 17, 17, 17,  0,  0,  0,  0,\n",
       "        0,  0,  0, 12, 12, 12, 12, 12, 12, 12, 12, 13, 13,  3,  3, 10, 10,\n",
       "       13, 13, 13, 13, 13, 13,  4,  4,  6,  6, 12, 12, 13, 13,  9,  9,  9,\n",
       "        0,  0,  0,  0, 10, 10, 12, 12, 17, 17,  5,  5,  6,  6, 17, 17, 17,\n",
       "       14, 14, 14, 14,  5,  5,  5,  9,  9,  9, 17, 17, 15, 15, 15,  6,  6,\n",
       "       17, 17, 17,  3,  3, 12, 12, 12, 17, 17, 13, 13, 17, 17,  8,  8,  8,\n",
       "        8, 15, 14, 14, 17, 17,  3,  3,  9,  9, 10, 10,  5,  5, 12, 13, 13,\n",
       "       10, 10, 12,  9, 12, 12, 17, 17, 17, 17, 17, 17, 14,  0, 11,  3,  6,\n",
       "        0,  0, 12, 17, 17, 17, 17, 12, 12, 17,  3,  6, 12, 15, 15, 15, 15,\n",
       "       15, 15, 12, 11,  3,  6,  2,  2,  2, 14, 14, 14, 14,  9,  9,  9,  6,\n",
       "        6,  6, 17, 17, 17, 12, 12, 12, 12,  0,  0,  0,  0, 13, 17, 17,  3,\n",
       "        4, 12,  4,  4, 14, 14,  3,  3,  3,  3,  9, 17, 17, 15, 17,  9,  9,\n",
       "        9, 12,  9,  9,  0, 17, 17, 14,  1,  1, 17,  8, 14, 14, 12,  0,  0,\n",
       "       12, 10, 16, 16,  4,  4, 17,  0,  0,  0,  0,  0,  1, 12, 12,  6,  6,\n",
       "       11, 11, 17, 17, 17, 11, 17, 16,  1,  1,  1, 17, 10, 10, 12, 12, 12,\n",
       "        5,  5, 11,  3,  6, 12, 12,  3,  6, 17, 15, 15, 15, 15, 14,  6, 14,\n",
       "        9,  9,  9,  9,  6,  6,  6,  6, 17, 17, 17, 17,  1,  1, 12, 12,  0,\n",
       "        0,  0,  0,  0, 17, 17, 17,  9,  9,  9, 12, 12, 17, 17, 14, 14, 14,\n",
       "       14,  0,  0,  9,  9, 12, 12, 12,  0,  0,  0, 12, 12, 12,  5,  5, 12,\n",
       "       15, 12, 12,  1,  1, 16, 16, 16, 16, 16, 16,  5,  5,  5,  3,  3,  3,\n",
       "        3,  3,  0,  0,  9, 13, 13, 17, 17, 17, 17, 17,  6,  6,  6,  6, 14,\n",
       "       14, 12, 10, 10, 10,  9,  9, 12,  2,  2, 12, 13, 15, 15, 17, 17, 17,\n",
       "       17, 10, 10, 15, 15, 15, 15, 17, 17, 12, 12,  8,  8,  8,  8,  8,  9,\n",
       "       14,  1,  1, 14, 11, 11, 11, 11, 11, 11, 17, 17, 17, 17, 17,  2,  2,\n",
       "        2,  2, 16, 16, 16, 16, 15, 11, 16,  2,  2,  2,  2, 17, 17, 10, 10,\n",
       "        2,  2, 16, 14, 14, 14, 14,  9,  9,  9,  6,  6,  6, 17, 17, 17, 12,\n",
       "       12, 12, 12, 12,  0,  0,  3,  3,  3,  9,  9, 15, 15, 15, 15,  0,  0,\n",
       "        0,  0,  0,  0,  0,  3, 17, 17,  9,  9, 17, 17, 12,  8,  8, 12, 12,\n",
       "       12,  8,  1, 12, 12, 14, 13, 13, 16, 16, 15, 14, 12, 12,  8,  2,  2,\n",
       "        2,  2, 12,  5,  5,  5, 10, 10, 13, 13, 13, 13,  9, 17, 17, 17,  9,\n",
       "        9,  9,  1,  3, 12, 10,  9,  3,  6,  4,  0,  9, 11, 10, 11, 12, 14,\n",
       "       14, 15,  8, 11,  3,  3,  3,  3,  3,  3, 14, 14, 14, 16, 17,  6, 12,\n",
       "        8,  8, 14, 17, 17,  1,  9,  9, 12, 14,  9,  9,  9,  6,  6,  6, 17,\n",
       "       17, 17, 12, 12, 12, 12, 12,  1,  1,  9,  9,  6,  6, 17, 17, 14, 14,\n",
       "       12, 12, 12,  3,  3, 15, 15, 15, 14, 14, 10, 10, 12, 12,  5,  5,  5,\n",
       "       17, 17, 17,  5,  5,  0,  0,  0,  0,  0,  0,  9,  9,  9,  9, 17, 10,\n",
       "       10, 10,  6,  6,  6,  9,  0,  0,  1,  1, 14,  8,  8, 17, 17, 15, 15,\n",
       "       13, 13,  1,  1, 12, 12, 14, 14, 14, 14, 14, 14, 17, 17, 11, 11, 11,\n",
       "       12, 12,  3,  0,  0,  9,  9, 17, 17, 17,  0,  0,  9,  9, 16, 16, 16,\n",
       "        3,  3,  3, 14, 14,  8,  8,  8,  2,  2,  2, 11, 11, 11,  0,  0, 10,\n",
       "        5,  5,  2, 10, 10,  1,  1, 12, 12, 12,  1,  1,  6,  0,  1,  1,  1,\n",
       "        0,  0, 16, 15,  9,  7,  7,  3,  3,  2,  2, 10, 10,  2,  2,  2, 17,\n",
       "       17, 12, 12,  0,  9,  9,  9,  6,  6,  6, 17, 17, 17, 12, 12, 12,  6,\n",
       "        6,  0,  0,  0,  6,  6,  4,  4,  4,  9,  9,  5,  5, 12, 14, 14, 14,\n",
       "       16, 16, 16, 16,  4,  4,  4,  4,  1,  1, 15, 15, 13, 13, 17, 17,  3,\n",
       "        3, 15, 15, 15, 15,  4,  5,  3, 15,  2,  2,  2, 16,  8,  8,  8,  8,\n",
       "        8,  8,  8,  8,  8,  8, 11, 11,  7,  7,  4,  1,  2, 15, 15, 14, 14,\n",
       "        6])"
      ]
     },
     "execution_count": 204,
     "metadata": {},
     "output_type": "execute_result"
    }
   ],
   "source": [
    "tree.predict(features)"
   ]
  },
  {
   "cell_type": "code",
   "execution_count": 206,
   "metadata": {},
   "outputs": [
    {
     "data": {
      "text/plain": [
       "58"
      ]
     },
     "execution_count": 206,
     "metadata": {},
     "output_type": "execute_result"
    }
   ],
   "source": [
    "new = np.array()"
   ]
  },
  {
   "cell_type": "code",
   "execution_count": 208,
   "metadata": {},
   "outputs": [
    {
     "name": "stdout",
     "output_type": "stream",
     "text": [
      "WARNING:tensorflow:From <ipython-input-208-94bfbc1e33b2>:21: softmax_cross_entropy_with_logits (from tensorflow.python.ops.nn_ops) is deprecated and will be removed in a future version.\n",
      "Instructions for updating:\n",
      "\n",
      "Future major versions of TensorFlow will allow gradients to flow\n",
      "into the labels input on backprop by default.\n",
      "\n",
      "See `tf.nn.softmax_cross_entropy_with_logits_v2`.\n",
      "\n"
     ]
    },
    {
     "ename": "ValueError",
     "evalue": "Both labels and logits must be provided.",
     "output_type": "error",
     "traceback": [
      "\u001b[1;31m---------------------------------------------------------------------------\u001b[0m",
      "\u001b[1;31mValueError\u001b[0m                                Traceback (most recent call last)",
      "\u001b[1;32m<ipython-input-208-94bfbc1e33b2>\u001b[0m in \u001b[0;36m<module>\u001b[1;34m\u001b[0m\n\u001b[0;32m     45\u001b[0m         \u001b[0mprint\u001b[0m\u001b[1;33m(\u001b[0m\u001b[1;34m'Accuracy:'\u001b[0m\u001b[1;33m,\u001b[0m\u001b[0maccuracy\u001b[0m\u001b[1;33m.\u001b[0m\u001b[0meval\u001b[0m\u001b[1;33m(\u001b[0m\u001b[1;33m{\u001b[0m\u001b[0mx\u001b[0m\u001b[1;33m:\u001b[0m\u001b[0mmnist\u001b[0m\u001b[1;33m.\u001b[0m\u001b[0mtest\u001b[0m\u001b[1;33m.\u001b[0m\u001b[0mimages\u001b[0m\u001b[1;33m,\u001b[0m \u001b[0my\u001b[0m\u001b[1;33m:\u001b[0m\u001b[0mmnist\u001b[0m\u001b[1;33m.\u001b[0m\u001b[0mtest\u001b[0m\u001b[1;33m.\u001b[0m\u001b[0mlabels\u001b[0m\u001b[1;33m}\u001b[0m\u001b[1;33m)\u001b[0m\u001b[1;33m)\u001b[0m\u001b[1;33m\u001b[0m\u001b[1;33m\u001b[0m\u001b[0m\n\u001b[0;32m     46\u001b[0m \u001b[1;33m\u001b[0m\u001b[0m\n\u001b[1;32m---> 47\u001b[1;33m \u001b[0mtrain_neural_network\u001b[0m\u001b[1;33m(\u001b[0m\u001b[0mfeatures\u001b[0m\u001b[1;33m)\u001b[0m\u001b[1;33m\u001b[0m\u001b[1;33m\u001b[0m\u001b[0m\n\u001b[0m",
      "\u001b[1;32m<ipython-input-208-94bfbc1e33b2>\u001b[0m in \u001b[0;36mtrain_neural_network\u001b[1;34m(x)\u001b[0m\n\u001b[0;32m     19\u001b[0m     \u001b[1;31m#cost = tf.reduce_mean( tf.nn.softmax_cross_entropy_with_logits(prediction,y) )\u001b[0m\u001b[1;33m\u001b[0m\u001b[1;33m\u001b[0m\u001b[1;33m\u001b[0m\u001b[0m\n\u001b[0;32m     20\u001b[0m     \u001b[1;31m# NEW:\u001b[0m\u001b[1;33m\u001b[0m\u001b[1;33m\u001b[0m\u001b[1;33m\u001b[0m\u001b[0m\n\u001b[1;32m---> 21\u001b[1;33m     \u001b[0mcost\u001b[0m \u001b[1;33m=\u001b[0m \u001b[0mtf\u001b[0m\u001b[1;33m.\u001b[0m\u001b[0mreduce_mean\u001b[0m\u001b[1;33m(\u001b[0m \u001b[0mtf\u001b[0m\u001b[1;33m.\u001b[0m\u001b[0mnn\u001b[0m\u001b[1;33m.\u001b[0m\u001b[0msoftmax_cross_entropy_with_logits\u001b[0m\u001b[1;33m(\u001b[0m\u001b[0mlogits\u001b[0m\u001b[1;33m=\u001b[0m\u001b[0mprediction\u001b[0m\u001b[1;33m,\u001b[0m \u001b[0mlabels\u001b[0m\u001b[1;33m=\u001b[0m\u001b[0mlabels\u001b[0m\u001b[1;33m)\u001b[0m \u001b[1;33m)\u001b[0m\u001b[1;33m\u001b[0m\u001b[1;33m\u001b[0m\u001b[0m\n\u001b[0m\u001b[0;32m     22\u001b[0m     \u001b[0moptimizer\u001b[0m \u001b[1;33m=\u001b[0m \u001b[0mtf\u001b[0m\u001b[1;33m.\u001b[0m\u001b[0mtrain\u001b[0m\u001b[1;33m.\u001b[0m\u001b[0mAdamOptimizer\u001b[0m\u001b[1;33m(\u001b[0m\u001b[1;33m)\u001b[0m\u001b[1;33m.\u001b[0m\u001b[0mminimize\u001b[0m\u001b[1;33m(\u001b[0m\u001b[0mcost\u001b[0m\u001b[1;33m)\u001b[0m\u001b[1;33m\u001b[0m\u001b[1;33m\u001b[0m\u001b[0m\n\u001b[0;32m     23\u001b[0m \u001b[1;33m\u001b[0m\u001b[0m\n",
      "\u001b[1;32m~\\Anaconda3\\lib\\site-packages\\tensorflow_core\\python\\util\\deprecation.py\u001b[0m in \u001b[0;36mnew_func\u001b[1;34m(*args, **kwargs)\u001b[0m\n\u001b[0;32m    322\u001b[0m               \u001b[1;34m'in a future version'\u001b[0m \u001b[1;32mif\u001b[0m \u001b[0mdate\u001b[0m \u001b[1;32mis\u001b[0m \u001b[1;32mNone\u001b[0m \u001b[1;32melse\u001b[0m \u001b[1;33m(\u001b[0m\u001b[1;34m'after %s'\u001b[0m \u001b[1;33m%\u001b[0m \u001b[0mdate\u001b[0m\u001b[1;33m)\u001b[0m\u001b[1;33m,\u001b[0m\u001b[1;33m\u001b[0m\u001b[1;33m\u001b[0m\u001b[0m\n\u001b[0;32m    323\u001b[0m               instructions)\n\u001b[1;32m--> 324\u001b[1;33m       \u001b[1;32mreturn\u001b[0m \u001b[0mfunc\u001b[0m\u001b[1;33m(\u001b[0m\u001b[1;33m*\u001b[0m\u001b[0margs\u001b[0m\u001b[1;33m,\u001b[0m \u001b[1;33m**\u001b[0m\u001b[0mkwargs\u001b[0m\u001b[1;33m)\u001b[0m\u001b[1;33m\u001b[0m\u001b[1;33m\u001b[0m\u001b[0m\n\u001b[0m\u001b[0;32m    325\u001b[0m     return tf_decorator.make_decorator(\n\u001b[0;32m    326\u001b[0m         \u001b[0mfunc\u001b[0m\u001b[1;33m,\u001b[0m \u001b[0mnew_func\u001b[0m\u001b[1;33m,\u001b[0m \u001b[1;34m'deprecated'\u001b[0m\u001b[1;33m,\u001b[0m\u001b[1;33m\u001b[0m\u001b[1;33m\u001b[0m\u001b[0m\n",
      "\u001b[1;32m~\\Anaconda3\\lib\\site-packages\\tensorflow_core\\python\\ops\\nn_ops.py\u001b[0m in \u001b[0;36msoftmax_cross_entropy_with_logits\u001b[1;34m(_sentinel, labels, logits, dim, name, axis)\u001b[0m\n\u001b[0;32m   3291\u001b[0m   \u001b[0mdim\u001b[0m \u001b[1;33m=\u001b[0m \u001b[0mdeprecated_argument_lookup\u001b[0m\u001b[1;33m(\u001b[0m\u001b[1;34m\"axis\"\u001b[0m\u001b[1;33m,\u001b[0m \u001b[0maxis\u001b[0m\u001b[1;33m,\u001b[0m \u001b[1;34m\"dim\"\u001b[0m\u001b[1;33m,\u001b[0m \u001b[0mdim\u001b[0m\u001b[1;33m)\u001b[0m\u001b[1;33m\u001b[0m\u001b[1;33m\u001b[0m\u001b[0m\n\u001b[0;32m   3292\u001b[0m   _ensure_xent_args(\"softmax_cross_entropy_with_logits\", _sentinel, labels,\n\u001b[1;32m-> 3293\u001b[1;33m                     logits)\n\u001b[0m\u001b[0;32m   3294\u001b[0m \u001b[1;33m\u001b[0m\u001b[0m\n\u001b[0;32m   3295\u001b[0m   with ops.name_scope(name, \"softmax_cross_entropy_with_logits_sg\",\n",
      "\u001b[1;32m~\\Anaconda3\\lib\\site-packages\\tensorflow_core\\python\\ops\\nn_ops.py\u001b[0m in \u001b[0;36m_ensure_xent_args\u001b[1;34m(name, sentinel, labels, logits)\u001b[0m\n\u001b[0;32m   3049\u001b[0m                      \"named arguments (labels=..., logits=..., ...)\" % name)\n\u001b[0;32m   3050\u001b[0m   \u001b[1;32mif\u001b[0m \u001b[0mlabels\u001b[0m \u001b[1;32mis\u001b[0m \u001b[1;32mNone\u001b[0m \u001b[1;32mor\u001b[0m \u001b[0mlogits\u001b[0m \u001b[1;32mis\u001b[0m \u001b[1;32mNone\u001b[0m\u001b[1;33m:\u001b[0m\u001b[1;33m\u001b[0m\u001b[1;33m\u001b[0m\u001b[0m\n\u001b[1;32m-> 3051\u001b[1;33m     \u001b[1;32mraise\u001b[0m \u001b[0mValueError\u001b[0m\u001b[1;33m(\u001b[0m\u001b[1;34m\"Both labels and logits must be provided.\"\u001b[0m\u001b[1;33m)\u001b[0m\u001b[1;33m\u001b[0m\u001b[1;33m\u001b[0m\u001b[0m\n\u001b[0m\u001b[0;32m   3052\u001b[0m \u001b[1;33m\u001b[0m\u001b[0m\n\u001b[0;32m   3053\u001b[0m \u001b[1;33m\u001b[0m\u001b[0m\n",
      "\u001b[1;31mValueError\u001b[0m: Both labels and logits must be provided."
     ]
    }
   ],
   "source": [
    "import tensorflow as tf\n",
    "def neural_network_model(features):\n",
    "    n_nodes_hl1 = 500\n",
    "    n_nodes_hl2 = 500\n",
    "    n_nodes_hl3 = 500\n",
    "\n",
    "    n_classes = 18\n",
    "    batch_size = 10\n",
    "    l1 = tf.keras.layers.Dense(n_nodes_hl1 , activation = 'relu')(features)\n",
    "    l2 = tf.keras.layers.Dense(n_nodes_hl2 , activation = 'relu')(l1)\n",
    "    l3 = tf.keras.layers.Dense(n_nodes_hl3 , activation = 'relu')(l2)\n",
    "    output =  tf.keras.layers.Dense(18, activation = 'relu')(l3)\n",
    "\n",
    "\n",
    "\n",
    "def train_neural_network(x):\n",
    "    prediction = neural_network_model(x)\n",
    "    # OLD VERSION:\n",
    "    #cost = tf.reduce_mean( tf.nn.softmax_cross_entropy_with_logits(prediction,y) )\n",
    "    # NEW:\n",
    "    cost = tf.reduce_mean(tf.nn.softmax_cross_entropy_with_logits(logits=prediction, labels=labels) )\n",
    "    optimizer = tf.train.AdamOptimizer().minimize(cost)\n",
    "    \n",
    "    hm_epochs = 20\n",
    "    with tf.Session() as sess:\n",
    "        # OLD:\n",
    "        #sess.run(tf.initialize_all_variables())\n",
    "        # NEW:\n",
    "        sess.run(tf.global_variables_initializer())\n",
    "\n",
    "        for epoch in range(hm_epochs):\n",
    "\n",
    "\n",
    "            epoch_loss = 0\n",
    "            for _ in range(int(mnist.train.num_examples/batch_size)):\n",
    "                epoch_x, epoch_y = mnist.train.next_batch(batch_size)\n",
    "                _, c = sess.run([optimizer, cost], feed_dict={x: epoch_x, y: epoch_y})\n",
    "                epoch_loss += c\n",
    "\n",
    "            print('Epoch', epoch, 'completed out of',hm_epochs,'loss:',epoch_loss)\n",
    "\n",
    "        correct = tf.equal(tf.argmax(prediction, 1), tf.argmax(y, 1))\n",
    "\n",
    "        accuracy = tf.reduce_mean(tf.cast(correct, 'float'))\n",
    "        print('Accuracy:',accuracy.eval({x:mnist.test.images, y:mnist.test.labels}))\n",
    "\n",
    "train_neural_network(features)"
   ]
  },
  {
   "cell_type": "code",
   "execution_count": null,
   "metadata": {},
   "outputs": [],
   "source": []
  },
  {
   "cell_type": "code",
   "execution_count": null,
   "metadata": {},
   "outputs": [],
   "source": []
  }
 ],
 "metadata": {
  "kernelspec": {
   "display_name": "Python 3",
   "language": "python",
   "name": "python3"
  },
  "language_info": {
   "codemirror_mode": {
    "name": "ipython",
    "version": 3
   },
   "file_extension": ".py",
   "mimetype": "text/x-python",
   "name": "python",
   "nbconvert_exporter": "python",
   "pygments_lexer": "ipython3",
   "version": "3.7.4"
  }
 },
 "nbformat": 4,
 "nbformat_minor": 2
}
